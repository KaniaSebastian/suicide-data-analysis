{
 "cells": [
  {
   "cell_type": "markdown",
   "id": "26ab027c-7107-4dc1-b8de-f993a92eb911",
   "metadata": {},
   "source": [
    "# Analiza danych dotycząca samobójstw. "
   ]
  },
  {
   "cell_type": "markdown",
   "id": "67973ba4-3891-4d80-bf72-5ec1db5ecebd",
   "metadata": {},
   "source": [
    "## Wstęp"
   ]
  },
  {
   "cell_type": "markdown",
   "id": "bdbbcd6a-bb87-41f5-82f3-f400e59f748f",
   "metadata": {},
   "source": [
    "Według danych [National Vital Statistics System CDC](https://www.cdc.gov/nchs/products/databriefs/db330.htm) od 1999 do 2017 roku wskaźniki samobójstw wzrosły o 33%. Obserwując dane dotyczące obywatelów na przykład Stanów Zjednoczonych, nie sposób nie zauważyć wielu niepokojących faktów. Samobójstwa osiągają swój szczyt od 50 lat, oraz stały się obecnie drugą najczęstszą przyczyną śmierci dla osób w wieku poniżej 35 lat. Ta zwiększająca się liczba samobójstw może być wskaźnikiem narastających problemów społecznych.\n",
    "\n",
    "Z pewnością istnieją jakieś czynniki, które mogą zwiększać ryzyko wystąpienia samobójstwa lub zmniejszać. W poniższej pracy przeanalizowane zostaną różne czynniki, które korelują ze wskaźnikami samobójstw w różnych krajach w latach 1985–2016. Najpierw przeanalizowane zostaną dane zawarte w wybranym zbiorze. Następnie poszukamy wszelkich korelacji ze wskaźnikami samobójstw wśród różnych czynników, takich jak wiek, płeć czy region geograficzny. "
   ]
  },
  {
   "cell_type": "markdown",
   "id": "a87578b6-31ba-4847-999e-b2dcbe371d09",
   "metadata": {},
   "source": [
    "### Wybrany zbiór danych"
   ]
  },
  {
   "cell_type": "markdown",
   "id": "6956e951-78c3-4afe-b7b4-d8a1430e7feb",
   "metadata": {},
   "source": [
    "Używany w poniższej analizie zestaw danych to dane zebrane z czterech różnych źródeł i połączone według czasu i miejsca. Zbiór ten został utworzony, aby umożliwić znalezienie sygnałów skorelowanych ze wzrostem wskaźników samobójstw w całym spektrum społeczno-ekonomicznym na całym świecie. Zestaw ten nosi nazwę *Suicide Rates Overview 1985 to 2016*, a pobrany został z [kaggle](https://www.kaggle.com/russellyates88/suicide-rates-overview-1985-to-2016)."
   ]
  },
  {
   "cell_type": "markdown",
   "id": "f9b4c279-3f5e-4df4-8282-3e050f5020df",
   "metadata": {},
   "source": [
    "### Import potrzebnych bibliotek"
   ]
  },
  {
   "cell_type": "code",
   "execution_count": null,
   "id": "6f3429cc-9648-4135-b4a0-64d7106247f6",
   "metadata": {},
   "outputs": [],
   "source": [
    "import plotly.express as px\n",
    "from jupyter_dash import JupyterDash\n",
    "import dash_core_components as dcc\n",
    "import dash_html_components as html\n",
    "from dash.dependencies import Input, Output\n",
    "import plotly.graph_objects as go\n",
    "\n",
    "import pandas as pd\n",
    "import numpy as np\n",
    "import json"
   ]
  },
  {
   "cell_type": "markdown",
   "id": "89a82437-defc-42b5-aa07-4f54732eb85c",
   "metadata": {},
   "source": [
    "### Przegląd zbioru"
   ]
  },
  {
   "cell_type": "code",
   "execution_count": null,
   "id": "4866c9d5-43dc-4a6c-953f-07dd72e3a3e4",
   "metadata": {},
   "outputs": [],
   "source": [
    "# wczytanie danych z pliku csv i wykonanie kopii\n",
    "\n",
    "data_original = pd.read_csv(\"data/suicides.csv\")\n",
    "df = data_original.copy()"
   ]
  },
  {
   "cell_type": "markdown",
   "id": "6704d2b7-6308-4bb0-ba83-829440b600bd",
   "metadata": {},
   "source": [
    "Zobaczmy jak prezentują się dane. Poniżej wyświetlone zostanie 5 losowych rekordów ze zbioru oraz ogólne informacje o zbiorze."
   ]
  },
  {
   "cell_type": "code",
   "execution_count": null,
   "id": "c056d2c5-9761-468d-9f67-e472e1373153",
   "metadata": {},
   "outputs": [],
   "source": [
    "df.sample(5)"
   ]
  },
  {
   "cell_type": "code",
   "execution_count": null,
   "id": "d5ef81b2-354b-49a0-a0c5-a05505f17987",
   "metadata": {},
   "outputs": [],
   "source": [
    "# wymiar danych\n",
    "df.shape"
   ]
  },
  {
   "cell_type": "code",
   "execution_count": null,
   "id": "93384d26-fcb3-4da6-868f-b816af102077",
   "metadata": {},
   "outputs": [],
   "source": [
    "# lista atrybutów zbioru \n",
    "list(df.columns)"
   ]
  },
  {
   "cell_type": "markdown",
   "id": "c1dadbd5-1008-4f44-9698-74a09297a693",
   "metadata": {},
   "source": [
    "Widać, że zbiór składa się z 12 column oraz 27820 rekordów. "
   ]
  },
  {
   "cell_type": "markdown",
   "id": "7a67ae7a-b9bf-4244-bd5a-048e9fd07b4c",
   "metadata": {},
   "source": [
    "### Atrybuty zbioru"
   ]
  },
  {
   "cell_type": "markdown",
   "id": "79f45f18-fa5e-4475-b194-e652bb8586f5",
   "metadata": {},
   "source": [
    "- country: nazwy 101 krajów, z których zebrano dane\n",
    "- year: lata od 1985 do 2016\n",
    "- sex: płeć\n",
    "- age: przedziały wiekowe: '5-14' ,'15-24', '35-54', '75+', '25-34', '55-74'\n",
    "- suicides_no: liczba samobójstw w danym roku, w danej grupie wiekowej, dla danej płci, w danym państwie\n",
    "- population: ludność kraju w danym roku, w danej grupie wiekowej, dla danej płci, w danym państwie\n",
    "- suicides/100k pop: liczba samobójstw na 100 tys. Mieszkańców, w danej grupie wiekowej, dla danej płci, w danym państwie\n",
    "- country-year: kombinacja Kraj/Rok.\n",
    "- HDI for year: wskaźnik rozwoju społecznego na dany rok\n",
    "- gdp_for_year: PKB kraju na dany rok\n",
    "- gdp_per_capita: PKB na mieszkańca dla kraju\n",
    "- generation: pokolenie (na podstawie średniej grup wiekowych)"
   ]
  },
  {
   "cell_type": "markdown",
   "id": "523035b6-1d30-4ef6-95a0-8d092ec9343b",
   "metadata": {},
   "source": [
    "## Przygotowanie zbioru do analizy"
   ]
  },
  {
   "cell_type": "markdown",
   "id": "66b11209-1732-4e6f-9a9e-6aa99a0c216e",
   "metadata": {},
   "source": [
    "Wstępne przetwarzanie danych jest jednym z najważniejszych kroków w procesie eksploracji danych, obejmującym przygotowanie i transformację początkowego zbioru danych. Chociaż sam zbiór jest stosunkowo czysty, nadal konieczne jest usunięcie wszelkich zbędnych danych, które nie są potrzebne do wykonania analizy."
   ]
  },
  {
   "cell_type": "markdown",
   "id": "b6ed60c3-ff96-4cd1-be3d-8c92456c8b63",
   "metadata": {},
   "source": [
    "### Typy danych \n",
    "\n",
    "Sprawdźmy więc najpierw czy typy danych są takie jakich oczekujemy."
   ]
  },
  {
   "cell_type": "code",
   "execution_count": null,
   "id": "f73a8c61-8c29-4926-8d52-0910d5868e1d",
   "metadata": {},
   "outputs": [],
   "source": [
    "df.dtypes"
   ]
  },
  {
   "cell_type": "markdown",
   "id": "ca670971-3079-414c-917e-ad66212be1da",
   "metadata": {},
   "source": [
    "Wygląda na to, że typy są prawidłowe oprócz kolumny *gdp_for_year*, która powinna mieć wartości numeryczne. Usunięte zostaną więc przecinki oraz zmieniony zostanie typ."
   ]
  },
  {
   "cell_type": "code",
   "execution_count": null,
   "id": "dbc2cbae-044c-4973-a6db-361cfd516860",
   "metadata": {},
   "outputs": [],
   "source": [
    "df[' gdp_for_year ($) '] = df[' gdp_for_year ($) '].str.replace(',','')\n",
    "df[' gdp_for_year ($) '] = pd.to_numeric(df[' gdp_for_year ($) '])"
   ]
  },
  {
   "cell_type": "markdown",
   "id": "34dc92bc-8dde-4568-a226-94eb2fe53254",
   "metadata": {},
   "source": [
    "### Brakujące wartości"
   ]
  },
  {
   "cell_type": "code",
   "execution_count": null,
   "id": "a0b15559-48bc-4784-9e92-b1f72f28348a",
   "metadata": {},
   "outputs": [],
   "source": [
    "df.isnull().sum()"
   ]
  },
  {
   "cell_type": "markdown",
   "id": "2beaaedb-8efe-4a59-b241-65b0ee272570",
   "metadata": {},
   "source": [
    "Jedna z kolumn zawiera wiele brakujących wartości. Sprawdźmy, jaką część zbioru stanowią brakujące dane."
   ]
  },
  {
   "cell_type": "code",
   "execution_count": null,
   "id": "93e7126d-a3cf-4a92-9582-62a5dfccc3cb",
   "metadata": {},
   "outputs": [],
   "source": [
    "print('Brakujące dane w kolumnie HDI for year:', df['HDI for year'].isnull().sum() * 100 / len(df), '%')"
   ]
  },
  {
   "cell_type": "markdown",
   "id": "3c551372-7074-4ce6-adf2-a54fe0fde32e",
   "metadata": {},
   "source": [
    "Biorąc pod uwagę, że większość danych w kolumnie *HDI for year* posiada braki, możemy tą kolumne całkowicie usunąć gdyż i tak nie przyda się w dalszej analizie."
   ]
  },
  {
   "cell_type": "code",
   "execution_count": null,
   "id": "b933015e-97a4-4a8b-8e33-a307cf3645d9",
   "metadata": {},
   "outputs": [],
   "source": [
    "df=df.drop(['HDI for year'],axis=1)"
   ]
  },
  {
   "cell_type": "markdown",
   "id": "a0358eab-fe4e-4ff6-9ce1-4a4fc765563f",
   "metadata": {},
   "source": [
    "### Kolumny zbędne"
   ]
  },
  {
   "cell_type": "markdown",
   "id": "d04c973f-58e4-4110-99c2-75a1f65acc42",
   "metadata": {},
   "source": [
    "W zbiorze znajdują się kolumny nie zawierające przydatnych dla nas informacji. Jedna z nich to *country-year*, która reprezentuje połączone dane z kolumn *year* oraz *country*. Mamy tutaj niepotrzebną redundancję, więc możemy się tych danych pozbyć. \n",
    "\n",
    "Drugą zbędną kolumną jest *generation*. Zawiera ona informację na temat pokoleń, których ramki czasowe określane są bardzo różnie. Ich definicja jest więc umowna. Poza tym informacja ta nie jest istotna, gdyż mamy w tabeli dane na temat wieku. Kolumna ta zostaje więc również usunięta."
   ]
  },
  {
   "cell_type": "code",
   "execution_count": null,
   "id": "3f5d911e-41d3-4238-8e8a-152753a40993",
   "metadata": {
    "tags": []
   },
   "outputs": [],
   "source": [
    "df=df.drop(['generation', 'country-year'],axis=1)"
   ]
  },
  {
   "cell_type": "markdown",
   "id": "44379a69-f49e-42c9-9491-ce3e49a4da91",
   "metadata": {},
   "source": [
    "### Nazwy kolumn"
   ]
  },
  {
   "cell_type": "markdown",
   "id": "6dfd310a-8fb9-444a-813f-2efb061abb7a",
   "metadata": {},
   "source": [
    "Niektóre z kolumn można znacznie uprościć, aby pracowało się z nimi łatwiej."
   ]
  },
  {
   "cell_type": "code",
   "execution_count": null,
   "id": "096ceac5-811b-4723-9933-1778ae2c0f36",
   "metadata": {},
   "outputs": [],
   "source": [
    "df.rename(index = str, columns = {'suicides/100k pop':'suiciderate'}, inplace=True)\n",
    "df.rename(index = str, columns = {'gdp_per_capita ($)':'gdp'}, inplace=True)\n",
    "df.rename(index = str, columns = {' gdp_for_year ($) ':'yearlygdp'}, inplace=True)"
   ]
  },
  {
   "cell_type": "markdown",
   "id": "8e59f60a-83ad-4068-bb6a-b73300afde70",
   "metadata": {},
   "source": [
    "### Nazwy państw\n",
    "\n",
    "Istnieje wiele bibliotek pozwalających na przedstawianie danych geograficznych na mapach. Aby skorzystać z takich wykresów należy posiadać nazwy państw zapisane w sposób, jaki jest akceptowalny przez daną bibliotekę lub w sposób jaki odpowiada danym zapisanym w pliku geo.json. W przypadku tej pracy nazwy państw zostaną zmienione tak, aby można było je wykorzystać z danymi geograficznymi zapisanymi w pliku. Plik ten został pobrany ze strony [https://geojson-maps.ash.ms/https://geojson-maps.ash.ms/](https://geojson-maps.ash.ms/)."
   ]
  },
  {
   "cell_type": "code",
   "execution_count": null,
   "id": "91b3737b-ecb0-4b52-80d2-0a356c9d86ad",
   "metadata": {},
   "outputs": [],
   "source": [
    "json_map_path = 'data/custom.geo.json'\n",
    "\n",
    "with open(json_map_path) as f:\n",
    "    geo_world = json.load(f)\n",
    "\n",
    "found = []\n",
    "missing = []\n",
    "countries_geo = []\n",
    "countries_json_list = [ c['properties']['name'] for c in geo_world['features']]\n",
    "\n",
    "for country in df['country'].unique():   \n",
    "    if country in countries_json_list:\n",
    "        found.append(country)\n",
    "    else:\n",
    "        missing.append(country)\n",
    "\n",
    "print(f'Countries found    : {len(found)}')\n",
    "print(f'Countries not found: {len(missing)}')\n",
    "# geo_world_ok = {'type': 'FeatureCollection', 'features': countries_geo}\n",
    "print('\\nBrakujące państwa lub źle zakodowane: ', missing)"
   ]
  },
  {
   "cell_type": "markdown",
   "id": "75ec6f39-dbb4-4be8-8a3b-1687b6941d03",
   "metadata": {},
   "source": [
    "Poniżej nazwy państw zostają poprawnie zakodowane."
   ]
  },
  {
   "cell_type": "code",
   "execution_count": null,
   "id": "07f61485-6b50-4cfc-8ed3-0dbe8b469ffd",
   "metadata": {},
   "outputs": [],
   "source": [
    "df.loc[df['country'] == 'Republic of Korea', 'country'] = 'Korea'\n",
    "df.loc[df['country'] == 'Russian Federation', 'country'] = 'Russia'\n",
    "df.loc[df['country'] == 'Bosnia and Herzegovina', 'country'] = 'Bosnia and Herz.'\n",
    "df.loc[df['country'] == 'Czech Republic', 'country'] = 'Czech Rep.'\n",
    "df.loc[df['country'] == 'Antigua and Barbuda', 'country'] = 'Antigua and Barb.'\n",
    "df.loc[df['country'] == 'Cabo Verde', 'country'] = 'Cape Verde'\n",
    "df.loc[df['country'] == 'Macau', 'country'] = 'Macao'\n",
    "df.loc[df['country'] == 'Saint Kitts and Nevis', 'country'] = 'St. Kitts and Nevis'\n",
    "df.loc[df['country'] == 'Saint Vincent and Grenadines', 'country'] = 'St. Vin. and Gren.'"
   ]
  },
  {
   "cell_type": "markdown",
   "id": "367f0975-e890-4b34-a2e3-f00fa70b6787",
   "metadata": {},
   "source": [
    "### Selekcja danych"
   ]
  },
  {
   "cell_type": "markdown",
   "id": "57a68732-b75c-4a44-bf45-8dd2f1c297fc",
   "metadata": {},
   "source": [
    "Na koniec procesu czyszczenia danych wyselekcjonujemy odpowiedni ich podzbiór. Na przestrzeni lat dane zawarte w zbiorze zmieniały się dynamicznie, ze względu na przeróżne zmiany społeczno gospodarcze zachodzące na całym świecie. Chcąc pokazać wiarygodne rezultaty badań, pojawia się konieczność pominięcia tych danych, które są niekompletne. Sprawdźmy ile mamy danych dla występujących w zbiorze lat."
   ]
  },
  {
   "cell_type": "code",
   "execution_count": null,
   "id": "ba5d91d9-7f20-4ae6-9ab2-77b662f27734",
   "metadata": {},
   "outputs": [],
   "source": [
    "df['year'].value_counts()"
   ]
  },
  {
   "cell_type": "markdown",
   "id": "9f46d6cc-353e-4f6e-ae6f-089023a4236a",
   "metadata": {},
   "source": [
    "Dla roku 2016 danych jest bardzo mało, więc dane dotyczące tego roku zostaną wykluczone."
   ]
  },
  {
   "cell_type": "code",
   "execution_count": null,
   "id": "13635ce5-05b0-41a1-a1f3-569a84a1b3e7",
   "metadata": {},
   "outputs": [],
   "source": [
    "df = df[df['year'] <= 2015]"
   ]
  },
  {
   "cell_type": "markdown",
   "id": "c4bd4dac-32a6-4c46-a653-3dd59d577e5e",
   "metadata": {},
   "source": [
    "Gotowy zbiór zapisany zostaje w osobnym pliku."
   ]
  },
  {
   "cell_type": "code",
   "execution_count": null,
   "id": "5cb3d50f-b90a-4cb1-805e-a1348bf94b79",
   "metadata": {},
   "outputs": [],
   "source": [
    "df.to_csv('data/suicides_cleaned.csv')"
   ]
  },
  {
   "cell_type": "markdown",
   "id": "2f47720f-83d4-4518-bfd1-22bd0c69a629",
   "metadata": {},
   "source": [
    "### Specyfika danych\n",
    "\n",
    "Po wstępnym przetworzeniu można zobaczyć jak prezentuje się zbiór gotowy do przeprowadzania analiz. Przyjrzyjmy się najpierw poszczególnym kolumnom.\n",
    "\n",
    "Jak widać poniżej, zbiór zawiera dane pochodzące ze 100 różnych krajów."
   ]
  },
  {
   "cell_type": "code",
   "execution_count": null,
   "id": "6207e759-00b2-4fc3-864d-53f4b4c0ec21",
   "metadata": {},
   "outputs": [],
   "source": [
    "df.country.unique().size"
   ]
  },
  {
   "cell_type": "markdown",
   "id": "eb65430f-eb42-4daf-a80c-70c93e4a519a",
   "metadata": {},
   "source": [
    "Liczba danych dla kobiet oraz mężczyzn jest jednakowa."
   ]
  },
  {
   "cell_type": "code",
   "execution_count": null,
   "id": "fe3492d5-e61c-4560-8c4c-9ddfc054a495",
   "metadata": {},
   "outputs": [],
   "source": [
    "df.sex.value_counts()"
   ]
  },
  {
   "cell_type": "markdown",
   "id": "4b4e3350-540c-48e7-9511-062a561c7aab",
   "metadata": {},
   "source": [
    "Dane dotyczą 6 różnych grup wiekowych."
   ]
  },
  {
   "cell_type": "code",
   "execution_count": null,
   "id": "c969be79-770b-48de-8cbc-134a15d57375",
   "metadata": {},
   "outputs": [],
   "source": [
    "df.age.unique()"
   ]
  },
  {
   "cell_type": "markdown",
   "id": "8f89091e-77ed-45ad-8f0f-14f3de6ed8c4",
   "metadata": {},
   "source": [
    "Warto zwrócić uwagę na to, że dystrybucja danych dla każdej z grup jest podobna."
   ]
  },
  {
   "cell_type": "code",
   "execution_count": null,
   "id": "c2ab29c9-26b8-4e45-be48-1c0a411d247b",
   "metadata": {},
   "outputs": [],
   "source": [
    "df.age.value_counts()"
   ]
  },
  {
   "cell_type": "markdown",
   "id": "30454f6a-bca8-43bc-a1df-e68cf5f11b6a",
   "metadata": {},
   "source": [
    "Statystyki dla omawianego zbioru są następujące:"
   ]
  },
  {
   "cell_type": "code",
   "execution_count": null,
   "id": "50a22a6c-97db-45ca-bb8b-1ff99bf29e75",
   "metadata": {},
   "outputs": [],
   "source": [
    "df.describe()"
   ]
  },
  {
   "cell_type": "markdown",
   "id": "80f32717-faab-46cd-a11a-21ebb7e2c63c",
   "metadata": {},
   "source": [
    "### Wybór odpowiedniej palety kolorów.\n",
    "\n",
    "Aby zachować jednolitość prezentowanych wizualizacji, zdecydowano się na wybór odpowiedniej palety kolorów. Wybrano jedną z palet dostępnych jako [predefinowane](https://plotly.com/python/builtin-colorscales/) w bibliotece plotly. Wybrana paleta nosi nazwę **Inferno** i wybrana została, ponieważ jej kolory naturalnie kojarzą się z ilością ciepła, a więc również ogólnie z natężeniem wystąpień jakiegoś zjawiska. Paleta kolorów jest zaprezentowana poniżej. Można również wybrać z listy inną paletę, aby zobaczyć jakie inne palety oferuje biblioteka plotly."
   ]
  },
  {
   "cell_type": "code",
   "execution_count": null,
   "id": "2eb964ad-1953-4c5b-8556-0a65eb318b27",
   "metadata": {
    "tags": []
   },
   "outputs": [],
   "source": [
    "color_palette = px.colors.sequential.Inferno\n",
    "color_palette_name = 'inferno'\n",
    "def get_palette_discretes(start=2, end=len(color_palette)-1, step=3):\n",
    "    return color_palette[start:end:step]"
   ]
  },
  {
   "cell_type": "code",
   "execution_count": null,
   "id": "49a60367-aa37-4c7c-b0d5-cb8f4d040fb2",
   "metadata": {
    "tags": []
   },
   "outputs": [],
   "source": [
    "colorscales = px.colors.named_colorscales()\n",
    "df_iris = px.data.iris()\n",
    "\n",
    "app = JupyterDash(__name__)\n",
    "\n",
    "app.layout = html.Div([\n",
    "    html.P(\"Paleta kolorów:\"),\n",
    "    dcc.Dropdown(\n",
    "        id='colorscale', \n",
    "        options=[{\"value\": x, \"label\": x} \n",
    "                 for x in colorscales],\n",
    "        value=color_palette_name\n",
    "    ),\n",
    "    dcc.Graph(id=\"graph\"),\n",
    "])\n",
    "\n",
    "@app.callback(\n",
    "    Output(\"graph\", \"figure\"), \n",
    "    [Input(\"colorscale\", \"value\")])\n",
    "def change_colorscale(scale):\n",
    "    fig = px.scatter(\n",
    "        df_iris, x=\"sepal_width\", y=\"sepal_length\", \n",
    "        color=\"sepal_length\", color_continuous_scale=scale)\n",
    "    return fig\n",
    "\n",
    "app.run_server(mode='inline')"
   ]
  },
  {
   "cell_type": "markdown",
   "id": "9feee6cc-07aa-4e20-b49f-8e0705ac53bc",
   "metadata": {},
   "source": [
    "Poniżej pokazane zostało spektrum wybranej palety dla niewielkiego zbioru wartości."
   ]
  },
  {
   "cell_type": "code",
   "execution_count": null,
   "id": "8e093522-15a9-4197-814a-e5324d250c07",
   "metadata": {
    "tags": []
   },
   "outputs": [],
   "source": [
    "fig = go.Figure()\n",
    "\n",
    "fig.add_trace(go.Heatmap(\n",
    "    z=[list(range(20))],\n",
    "    colorscale=color_palette,\n",
    "    colorbar=dict(\n",
    "        tick0=0,\n",
    "        dtick=1\n",
    "    )\n",
    "))\n",
    "\n",
    "fig.show()"
   ]
  },
  {
   "cell_type": "markdown",
   "id": "2c32938d-578c-4732-bb80-e690bb850f2f",
   "metadata": {},
   "source": [
    "## Analiza eksploracyjna\n",
    "\n",
    "Zbiór został już wstępnie oczyszczony więc można zająć się teraz jego analizą. Odnalezione zostaną zależności między jego atrybutami i pokazane z użyciem interaktynych elementów."
   ]
  },
  {
   "cell_type": "markdown",
   "id": "1a9668f0-bfdb-4c6c-8ad3-ec70cf310bdd",
   "metadata": {},
   "source": [
    "### Liczba samobójstw na przestrzeni lat\n",
    "Na samym początku zobaczmy ile osób na 100 tysięcy odbierało sobie życie w okresie od 1985 do 2015."
   ]
  },
  {
   "cell_type": "code",
   "execution_count": null,
   "id": "8f62c210-676c-4adb-80b3-475254a18741",
   "metadata": {},
   "outputs": [],
   "source": [
    "df_gby_years = df.groupby(['year'], as_index=False)[['suicides_no', 'population']].sum()\n",
    "df_gby_years['suicides_per_100k'] = round((df_gby_years['suicides_no']/df_gby_years['population'])*100000, 2)\n",
    "suicide_mean = round(df_gby_years['suicides_per_100k'].mean(), 2)\n",
    "\n",
    "fig_overall = go.Figure(data=go.Scatter(x=df_gby_years['year'], y=df_gby_years['suicides_per_100k'], mode='lines+markers', marker_color=color_palette[4]))\n",
    "fig_overall.add_hline(y=suicide_mean, line_dash=\"dash\", line_color=color_palette[7], annotation_text=10*\" \" + \"średnia = \" + str(suicide_mean), annotation_position=\"top left\")\n",
    "fig_overall.update_layout(title=\"Samobójstwa na 100 tys. osób na przestrzni lat (globalnie)\")\n",
    "fig_overall.update_xaxes(title_text=\"rok\")\n",
    "fig_overall.update_yaxes(title_text=\"samobójstwa na 100 tys.\")\n",
    "fig_overall.show()"
   ]
  },
  {
   "cell_type": "markdown",
   "id": "0aa798ae-5be3-42de-9dbe-b87472429e3e",
   "metadata": {},
   "source": [
    "Nasze dane wskazują na to, że liczba samobójstw zmieniała się dynamicznie i **osiągnęła najwięszką wartość w roku 1995**, natomiast **średnia wartość wynosiła 13.12**."
   ]
  },
  {
   "cell_type": "markdown",
   "id": "f5f1ae90-3418-4ff5-babe-fa572a3d1464",
   "metadata": {},
   "source": [
    "### Samobójstwa a płeć\n",
    "\n",
    "W tej sekcji przeanalizowany został nasz zestaw danych, sprawdzając, jak współczynniki samobójstw korelują z płcią. "
   ]
  },
  {
   "cell_type": "code",
   "execution_count": null,
   "id": "4f148524-127e-473e-9fe6-5b0ac12547d7",
   "metadata": {},
   "outputs": [],
   "source": [
    "df_gby_gender = df.groupby(['sex'], as_index=False)[['suicides_no', 'population']].sum()\n",
    "df_gby_gender['suicides_per_100k_in_group'] = round((df_gby_gender['suicides_no']/df_gby_gender['population'])*100000, 2)\n",
    "\n",
    "fig_pie_gender = px.pie(df_gby_gender, values='suicides_per_100k_in_group', names='sex', title='Zależność od płci', \n",
    "                        color_discrete_sequence=get_palette_discretes(start=2,step=3), custom_data=['suicides_per_100k_in_group'])\n",
    "fig_pie_gender.update_traces(textposition='auto', sort=False, \n",
    "                             hovertemplate=\"Płeć: <b>%{label}</b> <br> Liczba samobójstw na 100 tys. osób danej płci: <b>%{customdata[0]}</b>\")\n",
    "fig_pie_gender.show()"
   ]
  },
  {
   "cell_type": "markdown",
   "id": "6d3efe4d-2be7-4f63-849b-6e1cb9f51ab4",
   "metadata": {},
   "source": [
    "Z powyższego wykresu można dowiedzieć się, że wskaźnik samobójstw dla mężczyzn jest znacznie wyższy niż dla kobiet."
   ]
  },
  {
   "cell_type": "markdown",
   "id": "764f57ca-072e-42e3-a159-2260023090da",
   "metadata": {},
   "source": [
    "### Samobójstwa a wiek"
   ]
  },
  {
   "cell_type": "markdown",
   "id": "d1733ce2-da6c-4874-bf72-eac0b6883c8c",
   "metadata": {},
   "source": [
    "Interesującą kwestią dotyczącą tego przykrego zjawiska jakim jest samobójstwo jest na pewno wiek osób, które najczęściej decydują się na taki krok. Zobaczmy jaki procent stanowią poszczególny grupy wiekowe."
   ]
  },
  {
   "cell_type": "code",
   "execution_count": null,
   "id": "475e44d5-aa65-4343-8769-120b87b4916e",
   "metadata": {
    "tags": []
   },
   "outputs": [],
   "source": [
    "# agregacja danych i wyrkesy\n",
    "df_gby_age = df.groupby(['age'], as_index=False)[['suicides_no', 'population']].sum()\n",
    "df_gby_age['suicides_per_100k_in_group'] = round((df_gby_age['suicides_no']/df_gby_age['population'])*100000, 2)\n",
    "# 1 pie\n",
    "fig_pie_age_no = px.pie(df_gby_age, names='age', values='suicides_no', color_discrete_sequence=get_palette_discretes(), custom_data=['suicides_no'])\n",
    "fig_pie_age_no.update_traces(textposition='auto', textinfo='label', sort=False,\n",
    "                             hovertemplate=\"Wiek: %{label}: <br><br><b>Procent: %{percent}</b> </br>Liczba samobójstw: %{customdata[0]}\")\n",
    "# 2 pie\n",
    "fig_pie_age_100k = px.pie(df_gby_age, names='age', values='suicides_per_100k_in_group', color_discrete_sequence=get_palette_discretes(), custom_data=['suicides_per_100k_in_group']) \n",
    "fig_pie_age_100k.update_traces(textposition='auto', textinfo='label', sort=False,\n",
    "                               hovertemplate=\"Wiek: %{label}: <br><br><b>Procent: %{percent}</b> </br>Liczba samobójstw na 100 tysięcy: %{customdata[0]}\")\n",
    "\n",
    "# dash layout\n",
    "app.layout = html.Div([\n",
    "    html.Br(),\n",
    "    html.H2('Samobójstwa według wieku', style={'text-align':'center'}),\n",
    "    dcc.Tabs(id=\"tabs\", value='tab-1', children=[\n",
    "        dcc.Tab(label='Łącznie', value='tab-1'),\n",
    "        dcc.Tab(label='Na 100 tysięcy osób danej grupy', value='tab-2'),\n",
    "    ]),\n",
    "    html.Div(id='tabs-content', children=[]),\n",
    "    dcc.Graph(id='age_pie_chart', figure={})\n",
    "])\n",
    "\n",
    "@app.callback(Output(component_id='age_pie_chart', component_property='figure'),\n",
    "              Input(component_id='tabs', component_property='value'))\n",
    "def render_content(tab):\n",
    "    \n",
    "    if tab == 'tab-1':\n",
    "        return fig_pie_age_no\n",
    "    elif tab == 'tab-2':\n",
    "        return fig_pie_age_100k\n",
    "    \n",
    "app.run_server(mode='inline')"
   ]
  },
  {
   "cell_type": "markdown",
   "id": "92eb00c6-6978-4f79-8f34-540cf153e6f1",
   "metadata": {},
   "source": [
    "**Na pierwszym z powyższych wykresów** widać wyraźnie, że największą grupą osób są te w wieku od **35 do 54 lat**. Mogłbo by się wydawać, że to właśnie osoby z tej grupy najczęściej popełniają samobójstwo.\n",
    "\n",
    "Istotne jednak jest to, że grupy nie są sobie równe pod względem wielkości. Aby zobaczyć, w jakiej grupie wiekowej najwięcej osób odbiera sobie życie, należy pokazać te dane liczbowe dla 100 tysięcy osób z danej grupy tak jak pokazano **na wykresie drugim**. Należy zwrócić uwagę na to, że **grupa w tym wypadku to wszystkie osoby w danym przedziale wiekowym**. \n",
    "\n",
    "Analizując dane na wykresie przedstawiającym dane liczone na 100 tysięcy osób można zauważyć, że to osoby **w wieku powyżej 75 lat** najczęsciej decydują się na samobójstwo."
   ]
  },
  {
   "cell_type": "markdown",
   "id": "a961a444-982f-40d3-8a7d-636c0a09a6f7",
   "metadata": {},
   "source": [
    "A jak powyższe liczby zmieniały się na przestrzeni lat? Czy trend był spadkowy? A może rosnący? Sprawdźmy najpierw zmiany dla łącznej liczby samobójstw w danych grupach na poniższej animacji. "
   ]
  },
  {
   "cell_type": "code",
   "execution_count": null,
   "id": "f1a39e64-b92a-4cfd-938a-721ba1f4aa21",
   "metadata": {},
   "outputs": [],
   "source": [
    "df_gby_year_age = df.groupby(['year', 'age'], as_index=False)[['suicides_no', 'population']].sum()\n",
    "df_gby_year_age['suicides_per_100k_in_group'] = round((df_gby_year_age['suicides_no']/df_gby_year_age['population'])*100000, 2)\n",
    "df_gby_year_age['temp'] = df_gby_year_age['age'].str.extract(r'(\\d\\d)')\n",
    "df_gby_year_age.sort_values(by=['year', 'temp'], inplace=True)\n",
    "colors = {'Ugly': 'red',\n",
    "          'Bad': 'orange',\n",
    "          'Good': 'lightgreen',\n",
    "          'Great': 'darkgreen'}\n",
    "fig_bar_animated = px.bar(df_gby_year_age, x=\"age\", y=\"suicides_no\", color='age', title=\"Liczba samobójstw na przestrzeni lat - animacja\",  \n",
    "                          color_discrete_sequence=get_palette_discretes(start=2, step=1), labels={'age':'Wiek', 'suicides_no':'Liczba samobójstw', 'year':'Rok'},\n",
    "                          animation_frame=\"year\", range_y=[0,110000]) \n",
    "fig_bar_animated.show()"
   ]
  },
  {
   "cell_type": "markdown",
   "id": "62ea9279-a4bc-4328-9ca0-ea4f9b5b3c01",
   "metadata": {},
   "source": [
    "Pokazując dane dla 100 tysięcy osób w danej grupie z użyciem wyrkesów liniowych możemy dokładnie zobaczyć zmiany zachodzące w czasie."
   ]
  },
  {
   "cell_type": "code",
   "execution_count": null,
   "id": "cd37b4f8-8271-43cd-a036-0ba124a44742",
   "metadata": {
    "tags": []
   },
   "outputs": [],
   "source": [
    "year_min = df_gby_year_age['year'].min()\n",
    "year_max = df_gby_year_age['year'].max()\n",
    "\n",
    "app3 = JupyterDash(__name__)\n",
    "app3.layout = html.Div([\n",
    "    html.Br(),\n",
    "    html.H4('Grupy wiekowe:'),\n",
    "    dcc.Checklist(\n",
    "        id=\"checklist\",\n",
    "        options=[{\"label\": x, \"value\": x} for x in df_gby_year_age['age'].unique()],\n",
    "        value=df_gby_year_age['age'].unique(),\n",
    "        labelStyle={'display': 'inline-block'}\n",
    "    ),\n",
    "    dcc.Graph(id=\"line-chart-year-age\"),\n",
    "    dcc.RangeSlider(\n",
    "        id='range-slider',\n",
    "        min=year_min, max=year_max, step=1,\n",
    "        marks={int(year_min): str(year_min), int(year_max):str(year_max)},\n",
    "        value=[year_min, year_max], pushable=2,\n",
    "    ),\n",
    "    html.Div(id='output-container-range-slider', style={'text-align':'center'}),\n",
    "])\n",
    "\n",
    "@app3.callback(\n",
    "    [Output(\"line-chart-year-age\", \"figure\"), Output('output-container-range-slider', 'children')], \n",
    "    [Input(\"checklist\", \"value\"), Input('range-slider', 'value')])\n",
    "def update_line_chart_year_age(groups, years):\n",
    "    mask = (df_gby_year_age['age'].isin(groups)) & (df_gby_year_age['year'].between(*years))\n",
    "#     mask = df_gby_year_age['year'].between(*years)\n",
    "    fig_line_year_age = px.line(df_gby_year_age[mask], x=\"year\", y=\"suicides_per_100k_in_group\", \n",
    "                  color='age', color_discrete_sequence=get_palette_discretes(start=3, step=1), \n",
    "                  labels={'age':'Wiek', 'year':'rok', 'suicides_per_100k_in_group':'samobójstwa na 100 tys.'})\n",
    "    \n",
    "    years_selected = f'Lata: {years}'\n",
    "    return fig_line_year_age, years_selected\n",
    "\n",
    "app3.run_server(mode='inline', port=8070)"
   ]
  },
  {
   "cell_type": "markdown",
   "id": "dc119837-84f3-45c5-ad76-ee0fed71b9ab",
   "metadata": {},
   "source": [
    "### Analiza geograficzna\n",
    "\n",
    "Mając dane dotyczące poszczególnych krajów, można zobaczyć w których znich wskaźnik samobójstw był największy. Zobaczmy te dane dla 10 państw z największym wskaźnikiem."
   ]
  },
  {
   "cell_type": "code",
   "execution_count": null,
   "id": "636cdf9a-7244-4c34-b1ff-88bca51432ff",
   "metadata": {},
   "outputs": [],
   "source": [
    "df_gby_country = df.groupby(['country'], as_index=False)[['suicides_no', 'population']].sum()\n",
    "df_gby_country['suicides_per_100k_in_group'] = round((df_gby_country['suicides_no']/df_gby_country['population'])*100000, 2)\n",
    "\n",
    "fig_countries = px.bar(df_gby_country.nlargest(10, 'suicides_per_100k_in_group'), x='country', y='suicides_per_100k_in_group', color='suicides_per_100k_in_group',\n",
    "                      color_discrete_sequence=color_palette, labels={'country':'kraj', 'suicides_per_100k_in_group':'liczba samobójstw na 100 tys.'})\n",
    "fig_countries.show()"
   ]
  },
  {
   "cell_type": "markdown",
   "id": "2736bfbe-5b8b-4890-9a6d-48b1da0f563b",
   "metadata": {},
   "source": [
    "Powyższa wizualizacja wskazuje na to, że na **Litwie** liczba samobójstw jest największa ze wszystkich państw, na temat których posiadamy dane w zbiorze. Kolejnymi państwami z bardzo wysokim wskaźnikiem samobójstw jest **Rosja** oraz **Sri Lanka**. Na poniższym wykresie można wybrać państwa, dla których chcemy zobaczyć wskaźnik samobójstw na przestrzeni lat."
   ]
  },
  {
   "cell_type": "code",
   "execution_count": null,
   "id": "2af06da2-6c15-40c7-b898-767ae81e5654",
   "metadata": {},
   "outputs": [],
   "source": [
    "df_gby_countries_years = df.groupby(['country','year'], as_index=False)[['suicides_no', 'population']].sum()\n",
    "df_gby_countries_years['suicides_per_100k_in_group'] = (df_gby_countries_years['suicides_no']/df_gby_countries_years['population'])*100000\n",
    "\n",
    "\n",
    "app2 = JupyterDash(__name__)\n",
    "app2.layout = html.Div([\n",
    "    html.Br(),\n",
    "    dcc.Dropdown(\n",
    "        id='countries-dropdown',\n",
    "        options=[{'label':country, 'value':country} for country in df_gby_countries_years['country'].unique()],\n",
    "        multi=True,\n",
    "        value=['Poland', 'Russia', 'Germany']\n",
    "    ),\n",
    "    dcc.Graph(id=\"line-chart-countries-years\"),\n",
    "    html.Div(id='dd-output-container')\n",
    "])\n",
    "\n",
    "@app2.callback(\n",
    "    Output(\"line-chart-countries-years\", \"figure\"), \n",
    "    [Input(\"countries-dropdown\", \"value\")])\n",
    "def update_line_chart_countries_years(selected_countries):\n",
    "    mask_countries_years = df_gby_countries_years['country'].isin(selected_countries)\n",
    "    fig_countries_years = px.line(df_gby_countries_years[mask_countries_years], x=\"year\", y=\"suicides_per_100k_in_group\", \n",
    "                                  color='country', color_discrete_sequence=px.colors.qualitative.Prism, \n",
    "                                  labels={'country':'kraj', 'suicides_per_100k_in_group':'liczba samobójstw na 100 tys.', 'year':'rok'})\n",
    "                            \n",
    "    return fig_countries_years\n",
    "\n",
    "app2.run_server(mode='inline', port=8060)"
   ]
  },
  {
   "cell_type": "markdown",
   "id": "5070726e-b3af-4fa3-a139-333d0dc62d0c",
   "metadata": {},
   "source": [
    "Aby ujrzeć dane dla wszystkich państw ze zbioru, zostaną one przedstawione na mapie. "
   ]
  },
  {
   "cell_type": "code",
   "execution_count": null,
   "id": "1b9c6c35-ad77-421d-b22e-067e2a371d82",
   "metadata": {},
   "outputs": [],
   "source": [
    "json_map_path = 'data/custom.geo.json'\n",
    "with open(json_map_path) as f:\n",
    "    geo_world = json.load(f)\n",
    "\n",
    "countries_geo = []\n",
    "\n",
    "for country in geo_world['features']:\n",
    "    \n",
    "    country_name = country['properties']['name'] \n",
    "    \n",
    "    if country_name in df_gby_country['country'].unique():\n",
    "        geometry = country['geometry'] \n",
    "        \n",
    "        countries_geo.append({\n",
    "            'type': 'Feature',\n",
    "            'geometry': geometry,\n",
    "            'id':country_name\n",
    "        })        \n",
    "geo_world_ok = {'type': 'FeatureCollection', 'features': countries_geo}"
   ]
  },
  {
   "cell_type": "code",
   "execution_count": null,
   "id": "387ff8aa-f1a0-4d63-b8b1-9f8b59b5c710",
   "metadata": {},
   "outputs": [],
   "source": [
    "fig_countries_map = px.choropleth_mapbox(\n",
    "    df_gby_country,\n",
    "    geojson=geo_world_ok,\n",
    "    locations='country',\n",
    "    color='suicides_per_100k_in_group',\n",
    "    color_continuous_scale=color_palette,\n",
    "    hover_name='country',\n",
    "    mapbox_style='open-street-map',\n",
    "    zoom=1,\n",
    "    center={'lat': 19, 'lon': 11},\n",
    "    opacity=0.7\n",
    ")\n",
    "\n",
    "fig_countries_map.update_layout(\n",
    "    margin={'r':0,'t':0,'l':0,'b':0},\n",
    "    coloraxis_colorbar={'title':'Samobójstwa na 100 tys.'},\n",
    "    title={'text': \"Samobójstwa na świecie w latach 1985-2015\"}   \n",
    ")\n",
    "fig_countries_map.show()"
   ]
  },
  {
   "cell_type": "markdown",
   "id": "0de09527-72fb-45b3-8913-263ded6b68fb",
   "metadata": {},
   "source": [
    "Powyższa mapa pokazuje, że omawiany zbiór posiada znaczące braki. Brakuje w nim informacji na temat wielu państw Afryki oraz Azji."
   ]
  },
  {
   "cell_type": "markdown",
   "id": "d4433c38-0dfd-4c61-9ab1-ddd5334a2481",
   "metadata": {},
   "source": [
    "### Podsumowanie\n",
    "W wyniku przeprowadzonej analizy wyciągnięto następujące wnioski.\n",
    "\n",
    "1. Samobójstwa są częstsze wśród mężczyzn niż kobiet\n",
    "2. Najwięcej samobójstw popełniono w 1995 roku. Od tamtego czasu globalny wskaźnij samobójstw systematycznie spadał.\n",
    "3. Grupa wiekowa, w której występuje najwięcej samobójstw to osoby w wieku od 35 do 54 lat. \n",
    "4. Grupa wiekowa, w której samobójstwo popełnia najwięcej osób na 100 tys. osób w tej grupie to osoby w wieku powyżej 75 lat.\n",
    "5. Najwięcej samobójstw na 100 tys. osób występiło na Litwie, w Rosji oraz na Sri Lance."
   ]
  }
 ],
 "metadata": {
  "kernelspec": {
   "display_name": "Python 3",
   "language": "python",
   "name": "python3"
  },
  "language_info": {
   "codemirror_mode": {
    "name": "ipython",
    "version": 3
   },
   "file_extension": ".py",
   "mimetype": "text/x-python",
   "name": "python",
   "nbconvert_exporter": "python",
   "pygments_lexer": "ipython3",
   "version": "3.7.2"
  }
 },
 "nbformat": 4,
 "nbformat_minor": 5
}
